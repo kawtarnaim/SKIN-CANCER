import os
import sys
import json
import datetime
import numpy as np
import skimage.draw
import utils_file

from mrcnn.visualize import display_instances , display_top_masks
from mrcnn.utils import extract_bboxes

from mrcnn.utils import Dataset
from matplotlib import pyplot as plt

from mrcnn.config import Config
from mrcnn.model import MaskRCNN


from mrcnn import model as modellib, utils
class CustomDataset(utils.Dataset):

    def load_custom(self, dataset_dir, subset):
        """Load a subset of the custom dataset.
        dataset_dir: Root directory of the dataset.
        subset: Subset to load: train or val
        """
        # Add classes according to the numbe of classes required to detect
        self.add_class("custom", 1, "benign")
        self.add_class("custom",2,"malignant")

        # Train or validation dataset?
        assert subset in ["train", "val","test"]
        dataset_dir = os.path.join(dataset_dir, subset)

        # Load annotations
        # VGG Image Annotator (up to version 1.6) saves each image in the form:
        # { 'filename': '28503151_5b5b7ec140_b.jpg',
        #   'regions': {
        #       '0': {
        #           'region_attributes': {},
        #           'shape_attributes': {
        #               'all_points_x': [...],
        #               'all_points_y': [...],
        #               'name': 'polygon'}},
        #       ... more regions ...
        #   },
        #   'size': 100202
        # }
        # We mostly care about the x and y coordinates of each region
        # Note: In VIA 2.0, regions was changed from a dict to a list.
        annotations = json.load(open(os.path.join(dataset_dir, "labels/VGG.json")))
        annotations = list(annotations.values())  # don't need the dict keys

        # The VIA tool saves images in the JSON even if they don't have any
        # annotations. Skip unannotated images.
        annotations = [a for a in annotations if a['regions']]

        # Add images
        for a in annotations:
            # Get the x, y coordinaets of points of the polygons that make up
            # the outline of each object instance. These are stores in the
            # shape_attributes (see json format above)
            # The if condition is needed to support VIA versions 1.x and 2.x.
            polygons = [r['shape_attributes'] for r in a['regions'].values()]
            #labelling each class in the given image to a number

            custom = [s['region_attributes'] for s in a['regions'].values()]
            
            num_ids=[]
            #Add the classes according to the requirement
            for n in custom:
                try:
                    if n['label']=='benign':
                        num_ids.append(1)
                    elif n['label']=='malignant':
                        num_ids.append(2)
                except:
                    pass

            # load_mask() needs the image size to convert polygons to masks.
            # Unfortunately, VIA doesn't include it in JSON, so we must read
            # the image. This is only managable since the dataset is tiny.
            image_path = os.path.join(dataset_dir, a['filename'])
            image = skimage.io.imread(image_path)
            height, width = image.shape[:2]

            self.add_image(
                "custom",
                image_id=a['filename'],  # use file name as a unique image id
                path=image_path,
                width=width, height=height,
                polygons=polygons,
                num_ids=num_ids)

    def load_mask(self, image_id):
        """Generate instance masks for an image.
       Returns:
        masks: A bool array of shape [height, width, instance count] with
            one mask per instance.
        class_ids: a 1D array of class IDs of the instance masks.
        """
        # If not a custom dataset image, delegate to parent class.
        image_info = self.image_info[image_id]
        if image_info["source"] != "custom":
            return super(self.__class__, self).load_mask(image_id)
        num_ids = image_info['num_ids']	
        #print("Here is the numID",num_ids)

        # Convert polygons to a bitmap mask of shape
        # [height, width, instance_count]
        info = self.image_info[image_id]
        mask = np.zeros([info["height"], info["width"], len(info["polygons"])],
                        dtype=np.uint8)
        for i, p in enumerate(info["polygons"]):
            # Get indexes of pixels inside the polygon and set them to 1
            rr, cc = skimage.draw.polygon(p['all_points_y'], p['all_points_x'])
            mask[rr, cc, i] = 1

        # Return mask, and array of class IDs of each instance. Since we have
        # one class ID only, we return an array of 1s
        num_ids = np.array(num_ids, dtype=np.int32)	
        return mask, num_ids#.astype(np.bool), np.ones([mask.shape[-1]], dtype=np.int32), 

    def image_reference(self, image_id):
        """Return the path of the image."""
        info = self.image_info[image_id]
        if info["source"] == "custom":
            return info["path"]
        else:
            super(self.__class__, self).image_reference(image_id)
dataset_train = CustomDataset()
dataset_train.load_custom("dataset_skin_cancer/", "train") 
dataset_train.prepare()
print('Train: %d' % len(dataset_train.image_ids))
dataset_val = CustomDataset()
dataset_val.load_custom("dataset_skin_cancer/", "val") 
dataset_val.prepare()
print('val: %d' % len(dataset_val.image_ids))
def get_ax(rows=1, cols=1 ,size=5):
    A, ax = plt.subplots(rows , cols , figsize=(size*cols,size*rows))
    return ax
 # define image id
image_id = 120
# load the image
image = dataset_train.load_image(image_id)
# load the masks and the class ids
mask, class_ids = dataset_train.load_mask(image_id)

ax = get_ax(1)
# extract bounding boxes from the masks
bbox = extract_bboxes(mask)
# display image with masks and bounding boxes
display_instances(image, bbox, mask, class_ids, dataset_train.class_names , ax=ax)
# define a configuration for the model
class MarbleConfig(Config):
    # define the name of the configuration
    NAME = "marble_cfg"
    # number of classes (background + benign + malignant )
    NUM_CLASSES = 1 + 2
    # number of training steps per epoch
    STEPS_PER_EPOCH = 5
    DETECTION_MIN_CONFIDENCE = 0.9 # Skip detections with < 90% confidence
# prepare config
config = MarbleConfig()
config.display() 




ROOT_DIR = os.path.abspath("./")
# Import Mask RCNN
sys.path.append(ROOT_DIR)  # To find local version of the library
# Directory to save logs and trained model
DEFAULT_LOGS_DIR = os.path.join(ROOT_DIR, "logs")
# Path to trained weights file
COCO_WEIGHTS_PATH = os.path.join(ROOT_DIR, "logs/marble_cfg20221222T1718/mask_rcnn_marble_cfg_0064.h5")

########################
#Weights are saved to root D: directory. need to investigate how they can be
#saved to the directory defined... "logs_models"

###############

# define the model
model = MaskRCNN(mode='training', model_dir=DEFAULT_LOGS_DIR, config=config)
# load weights (mscoco) and exclude the output layers
model.load_weights(COCO_WEIGHTS_PATH, by_name=True, exclude=["mrcnn_class_logits", "mrcnn_bbox_fc",  "mrcnn_bbox", "mrcnn_mask"])
# train weights (output layers or 'heads')
model.train(dataset_train, dataset_val, learning_rate=config.LEARNING_RATE, epochs=70, layers='heads')
############################
#INFERENCE

###################################################
from mrcnn.model import load_image_gt
from mrcnn.model import mold_image
from numpy import expand_dims
from numpy import mean
from matplotlib.patches import Rectangle
from mrcnn.utils import compute_ap
import utils_file

# define the prediction configuration
class PredictionConfig(Config):
    # define the name of the configuration
    NAME = "marble_cfg"
    # number of classes (background + Blue Marbles + Non Blue marbles)
    NUM_CLASSES = 1 + 2
    # Set batch size to 1 since we'll be running inference on
            # one image at a time. Batch size = GPU_COUNT * IMAGES_PER_GPU
    GPU_COUNT = 1
    IMAGES_PER_GPU = 1
# calculate the mAP for a model on a given dataset
def evaluate_model(dataset, model, cfg):
    APs = list()
    precision= list()
    recall = list()
    gt_tot = np.array([])
    pred_tot = np.array([])

    for image_id in dataset.image_ids:
        # load image, bounding boxes and masks for the image id
        image, image_meta, gt_class_id, gt_bbox, gt_mask = load_image_gt(dataset, cfg, image_id, use_mini_mask=False)
        # convert pixel values (e.g. center)
        scaled_image = mold_image(image, cfg)
        # convert image into one sample
        sample = expand_dims(scaled_image, 0)
        # make prediction
        yhat = model.detect(sample, verbose=0)
        # extract results for first sample
        
        r = yhat[0]
        

        #compute gt_tot and pred_tot
        gt, pred = utils_file.gt_pred_lists(gt_class_id, gt_bbox, r['class_ids'], r['rois'])
        gt_tot = np.append(gt_tot, gt)
        pred_tot = np.append(pred_tot, pred)
    
        # calculate statistics, including AP
        AP, precision, recall, _ = compute_ap(gt_bbox, gt_class_id, gt_mask, r["rois"], r["class_ids"], r["scores"], r['masks'])
        # store
        APs.append(AP)
    # calculate the mean AP across all images
    mAP = mean(APs)
    mPre = mean(precision)
    mRec = mean(recall)
    return mAP, mPre, mRec, gt_tot, pred_tot
    import matplotlib.pyplot as plt
# create config
cfg = PredictionConfig()
# define the model
model = MaskRCNN(mode='inference', model_dir='logs', config=cfg)
# load model weights
model.load_weights('logs/marble_cfg20221222T1718/mask_rcnn_marble_cfg_0060.h5', by_name=True)
# evaluate model on training dataset
train_mAP, train_pre, train_rec, train_gtTot, train_predTot  = evaluate_model(dataset_train, model, cfg)
print("Train mAP: %.3f" %train_mAP)
print("precision: %.6f" % train_pre)
print("recall: %.3f" %  train_rec)
tp, fp, fn = utils_file.plot_confusion_matrix_from_data(train_gtTot, train_predTot, dataset_train.class_names, fz=18, figsize=(8,8), lw=0.5)
dataset_test = CustomDataset()
dataset_test.load_custom("dataset_skin_cancer/", "test") 
dataset_test.prepare()
print('Test: %d' % len(dataset_test.image_ids))
# define image id
image_id = 1
# load the image
image = dataset_test.load_image(image_id)
# load the masks and the class ids
mask, class_ids = dataset_test.load_mask(image_id)

ax = get_ax(1)
# extract bounding boxes from the masks
bbox = extract_bboxes(mask)
# display image with masks and bounding boxes
display_instances(image, bbox, mask, class_ids, dataset_test.class_names , ax=ax)
import time
# starting time
start = time.time()
test_mAP,test_pre, test_rec, test_gtTot, test_predTot = evaluate_model(dataset_test, model, cfg)
print("Test mAP: %.3f" % test_mAP)
print("Test Presicion: %.3f" % test_pre)
print("Test Recall: %.3f" % test_rec)
# end time
end = time.time()
# total time taken
print(f"Runtime of the program is {end - start} ms")
tp, fp, fn = utils_file.plot_confusion_matrix_from_data(test_gtTot, test_predTot, dataset_test.class_names, fz=18, figsize=(8,8), lw=0.5)
#Test on a single image
marbles_img = skimage.io.imread("predict_image/malignant/1489.jpg")
plt.imshow(marbles_img)
ax = get_ax(1)
detected = model.detect([marbles_img])
results = detected[0]
class_names = ['BG', 'benign', 'malignant']
display_instances(marbles_img, results['rois'], results['masks'], 
                  results['class_ids'], class_names, results['scores'],ax=ax,title="prediction")
                
 #Test on a single image
marbles_img = skimage.io.imread("predict_image/malignant/81.jpg")
plt.imshow(marbles_img)
ax = get_ax(1)
detected = model.detect([marbles_img])
results = detected[0]
class_names = ['BG', 'benign', 'malignant']
display_instances(marbles_img, results['rois'], results['masks'], 
                  results['class_ids'], class_names, results['scores'],ax=ax,title="prediction")
